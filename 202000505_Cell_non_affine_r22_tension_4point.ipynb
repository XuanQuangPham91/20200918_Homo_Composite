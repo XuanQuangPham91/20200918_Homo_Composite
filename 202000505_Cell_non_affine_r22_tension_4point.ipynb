""" 3D Linear elastic with isotropic material """
""" Reference to Triet's model - Tension case """

# In[1]
from dolfin import *
from dolfin_utils import meshconvert
from fenics import *
from mshr import *
from ufl import nabla_div
import meshio
import matplotlib.pyplot as plt
import numpy as np
import math

R = 0.0022
mesh = Mesh("data/cell_non_affine_r22_20200505.xml")
# domains = CellFunction("size_t", mesh)
# domains.set_all(0)
# subdomain_cirle = Circle(Point(0, 0), R)
# subdomain_cirle.mark(domains, 1)
# domain.set_subdomain(1, mesh)
# subdomains = MeshFunction("size_t", mesh, mesh.topology().dim() - 1, mesh.domains())

# http://home.simula.no/~hpl/homepage/fenics-tutorial/release-1.0-nonabla/webm/materials.html
# subdomains = MeshFunction('uint', mesh, 3)  # 2 for 2D and 3 for 3D
# # Mark subdomains with numbers 0 and 1
# subdomain0 = Omega0()
# subdomain0.mark(subdomains, 0)
# subdomain1 = Omega1()
# subdomain1.mark(subdomains, 1)

V = VectorFunctionSpace(mesh, 'Lagrange', degree=1)

E_f = 80e9
nu_f = 0.2
E_m = 3.35e9
nu_m = 0.35


class young_modulus_E(UserExpression):
    def set_E_value(self, E_0, E_1):
        self.E_0, self.E_1 = E_0, E_1

    def eval(self, value, x):
        if math.sqrt(x[0] ** 2 + x[1] ** 2) <= R + DOLFIN_EPS:
            value[0] = self.E_0
        else:
            value[0] = self.E_1

    def value_shape(self):
        # return (1,)
        return ()


E = young_modulus_E(degree=0)
E.set_E_value(E_f, E_m)


class Nu(UserExpression):
    def set_nu_value(self, nu_0, nu_1):
        self.nu_0, self.nu_1 = nu_0, nu_1

    def eval(self, value, x):
        if math.sqrt(x[0] ** 2 + x[1] ** 2) <= R + DOLFIN_EPS:
            value[0] = self.nu_0
        else:
            value[0] = self.nu_1

    def value_shape(self):
        # return (1,)
        return ()


nu = Nu(degree=0)
nu.set_nu_value(nu_f, nu_m)
# mu = E / (2 * (1 + nu))
# lmbda = E * nu / (1 + nu) / (1 - 2 * nu)
C11 = C22 = C33 = E * (1 - nu) / ((1 - nu * 2) * (1 + nu))
C13 = C12 = E * nu / ((1 + nu) * (1 - 2 * nu))
C44 = C55 = C66 = E / (2 * (1 + nu))
C = as_matrix([[C11, C12, C13, 0., 0., 0.],
               [C12, C22, C13, 0., 0., 0.],
               [C13, C13, C33, 0., 0., 0.],
               [0., 0., 0., C44, 0., 0.],
               [0., 0., 0., 0., C55, 0.],
               [0., 0., 0., 0., 0., C66]])


def epsilon(v):
    return sym(grad(v))


def strain2voigt(e):
    return as_vector(
        [e[0, 0], e[1, 1], e[2, 2], 2 * e[2, 1], 2 * e[2, 0], 2 * e[1, 0]])


def voigt2stress(s):
    return as_tensor([[s[0], s[5], s[4]],
                      [s[5], s[1], s[3]],
                      [s[4], s[3], s[2]]])


def sigma(v):
    return voigt2stress(dot(C, strain2voigt(epsilon(v))))


class Pinpoint(SubDomain):
    TOL = 1e-3

    def __init__(self, coords):
        self.coords = np.array(coords)
        SubDomain.__init__(self)

    def move(self, coords):
        self.coords[:] = np.array(coords)

    def inside(self, x, on_boundary):
        return np.linalg.norm(x - self.coords) < DOLFIN_EPS


pinpoint1 = Pinpoint([0., 0., 0.])
pinpoint2 = Pinpoint([0., 0., 0.003])
pinpoint3 = Pinpoint([0., 0.003, 0.0015])
pinpoint4 = Pinpoint([0., -0.003, 0.0015])


def Top(x, on_boundary):
    return on_boundary and near(x[1], 0.003)


def Bottom(x, on_boundary):
    return on_boundary and near(x[1], -0.003)


def Left(x, on_boundary):
    return on_boundary and near(x[0], -0.003)


def Right(x, on_boundary):
    return on_boundary and near(x[0], 0.003)


# boundaries = MeshFunction("size_t", mesh, mesh.topology().dim() - 1)
boundaries = MeshFunction("size_t", mesh, 2)
boundaries.set_all(0)
top = AutoSubDomain(Top)
top.mark(boundaries, 1)
bottom = AutoSubDomain(Bottom)
bottom.mark(boundaries, 2)
left = AutoSubDomain(Left)
left.mark(boundaries, 3)
right = AutoSubDomain(Right)
right.mark(boundaries, 4)

bc = [
    DirichletBC(V, Constant((0., 0., 0.)), pinpoint1, 'pointwise'),
    DirichletBC(V, Constant((0., 0., 0.)), pinpoint2, 'pointwise'),
    DirichletBC(V, Constant((0., 0., 0.)), pinpoint3, 'pointwise'),
    DirichletBC(V, Constant((0., 0., 0.)), pinpoint4, 'pointwise'),
]

# Define variational problem
u = TrialFunction(V)
d = u.geometric_dimension()  # space dimension
v = TestFunction(V)
q = 100e6
f3 = Constant((-q, 0, 0))
f4 = Constant((q, 0, 0))
# dx = Measure("dx")(subdomain_data=subdomains)
ds = Measure("ds")(subdomain_data=boundaries)
# T = Constant((0, 0, 0))
a = inner(sigma(u), epsilon(v)) * dx
l = dot(f3, v) * ds(3) + dot(f4, v) * ds(4)

# test nabla epsilon
e1 = as_vector([1., 0.])
# l1 = - A_y*nabla_grad(u)[0]*dx  # other expression
l1 = -inner(A_y*e1, nabla_grad(epsilon(v)))*dx

# Compute solution
u = Function(V)

import ctypes

A = assemble(a)

b = assemble(l)
# print('assemble(l) =', b)
print(A.array())
# if mesh.num_cells() < 32:

# print(b.array())
A, b = assemble_system(a, l, bc)
# if mesh.num_cells() < 32:
print('assemble(a) =', A)
print(A.array())
print(b.get_local())

import scipy.io
scipy.io.savemat('Ab.mat', {'A': A.array(), 'b':b.get_local()})

# solve(A, u.vector(), b)
solve(a == l1, u, bc)

# vtkfile = File('elasticity_results/displacement_tension_20200505.pvd')
# vtkfile << u
# vtkfile = File('test/mesh_trelis_w_boundaries.pvd')
# vtkfile << mesh

# p = plot(u, title="FEniCS solution", mode='displacement')
# p = plot(mesh, title='mesh')
# p = plot(mesh, title='mesh', mode='displacement')
# plt.colorbar(p)
# plt.show()
